{
 "cells": [
  {
   "cell_type": "markdown",
   "metadata": {},
   "source": [
    "Time Complexity + Recursion Assignment\n",
    "\n",
    "Find time complexity of below code blocks :\n"
   ]
  },
  {
   "cell_type": "markdown",
   "metadata": {},
   "source": [
    "Problem 1 :\n",
    "\n",
    "def quicksort(arr):\n",
    "\n",
    "if len(arr) <= 1:\n",
    "\n",
    "return arr\n",
    "\n",
    "pivot = arr[len(arr) // 2]\n",
    "\n",
    "left = [x for x in arr if x < pivot]\n",
    "\n",
    "middle = [x for x in arr if x == pivot]\n",
    "\n",
    "right = [x for x in arr if x > pivot]\n",
    "\n",
    "return quicksort(left) + middle + quicksort(right)\n"
   ]
  },
  {
   "cell_type": "code",
   "execution_count": null,
   "metadata": {},
   "outputs": [],
   "source": [
    "'''Worst Case Time Complexity: \n",
    "O(n2)O(n2) (when the pivot selection is poor and results in highly unbalanced partitions).\n",
    "\n",
    "Average Case Time Complexity: \n",
    "O(nlogn)O(nlogn) (when the pivot selection is good and partitions are reasonably balanced).\n",
    "\n",
    "Space Complexity: The space complexity is O(n)O(n) due to the additional space used by the left, middle, and right lists, and also due to \n",
    "recursion depth (in a typical implementation,the recursion stack can go up to O(log n)O(logn) in the average case and O(n)O(n) in the worst case). '''"
   ]
  },
  {
   "cell_type": "markdown",
   "metadata": {},
   "source": [
    "Problem 2 :\n",
    "\n",
    "def nested_loop_example(matrix):\n",
    "\n",
    "rows, cols = len(matrix), len(matrix[0])\n",
    "\n",
    "total = 0\n",
    "\n",
    "for i in range(rows):\n",
    "\n",
    "for j in range(cols):\n",
    "\n",
    "total += matrix[i][j]\n",
    "\n",
    "return total\n"
   ]
  },
  {
   "cell_type": "code",
   "execution_count": null,
   "metadata": {},
   "outputs": [],
   "source": [
    "'''Time Complexity: \n",
    "O(rows *cols)O(rows * cols)\n",
    "\n",
    "Space Complexity: \n",
    "O(1)O(1) (excluding the input matrix, as only a few additional variables are used)'''"
   ]
  },
  {
   "cell_type": "markdown",
   "metadata": {},
   "source": [
    "Problem 3 :\n",
    "\n",
    "def example_function(arr):\n",
    "\n",
    "result = 0\n",
    "\n",
    "for element in arr:\n",
    "\n",
    "result += element\n",
    "\n",
    "return result\n"
   ]
  },
  {
   "cell_type": "code",
   "execution_count": null,
   "metadata": {},
   "outputs": [],
   "source": [
    "'''Time Complexity: \n",
    "O(n)O(n) (where n is the length of the array)\n",
    "\n",
    "Space Complexity: \n",
    "O(1)O(1) (excluding the input array, as only a few additional variables are used)'''\n"
   ]
  },
  {
   "cell_type": "markdown",
   "metadata": {},
   "source": [
    "Problem 4 :\n",
    "\n",
    "def longest_increasing_subsequence(nums):\n",
    "\n",
    "n = len(nums)\n",
    "\n",
    "lis = [1] * n\n",
    "\n",
    "for i in range(1, n):\n",
    "\n",
    "for j in range(0, i):\n",
    "\n",
    "if nums[i] > nums[j] and lis[i] < lis[j] + 1:\n",
    "\n",
    "lis[i] = lis[j] + 1\n",
    "\n",
    "return max(lis)\n"
   ]
  },
  {
   "cell_type": "code",
   "execution_count": null,
   "metadata": {},
   "outputs": [],
   "source": [
    "'''Time Complexity: \n",
    "O(n2)O(n2) (due to the nested loops)\n",
    "\n",
    "Space Complexity: \n",
    "O(n)O(n) (for the lis list and the n variable)'''"
   ]
  },
  {
   "cell_type": "markdown",
   "metadata": {},
   "source": [
    "Problem 5 :\n",
    "\n",
    "def mysterious_function(arr):\n",
    "\n",
    "n = len(arr)\n",
    "\n",
    "result = 0\n",
    "\n",
    "for i in range(n):\n",
    "\n",
    "for j in range(i, n):\n",
    "\n",
    "result += arr[i] * arr[j]\n",
    "\n",
    "return result\n"
   ]
  },
  {
   "cell_type": "code",
   "execution_count": null,
   "metadata": {},
   "outputs": [],
   "source": [
    "'''Time Complexity: \n",
    "O(n2)O(n2) (due to the nested loops)\n",
    "\n",
    "Space Complexity: \n",
    "O(1)O(1) (only a few additional variables are used)'''"
   ]
  },
  {
   "cell_type": "markdown",
   "metadata": {},
   "source": [
    "Solve the following problems on recursion"
   ]
  },
  {
   "cell_type": "markdown",
   "metadata": {},
   "source": [
    "Problem 6 : Sum of Digits Write a recursive function to calculate the sum of digits of a given positive integer.\n",
    "sum_of_digits(123) -> 6"
   ]
  },
  {
   "cell_type": "code",
   "execution_count": 1,
   "metadata": {},
   "outputs": [
    {
     "name": "stdout",
     "output_type": "stream",
     "text": [
      "6\n"
     ]
    }
   ],
   "source": [
    "def sum_of_digits(n):\n",
    "    # Base case: if n is a single digit\n",
    "    if n < 10:\n",
    "        return n\n",
    "    # Recursive case: last digit + sum of digits of the quotient\n",
    "    return n % 10 + sum_of_digits(n // 10)\n",
    "\n",
    "# Example usage\n",
    "result = sum_of_digits(123)\n",
    "print(result)  \n"
   ]
  },
  {
   "cell_type": "markdown",
   "metadata": {},
   "source": [
    "Problem 7: Fibonacci Series, Write a recursive function to generate the first n numbers of the Fibonacci series.\n",
    "\n",
    "fibonacci_series(6) -> [0, 1, 1, 2, 3, 5]"
   ]
  },
  {
   "cell_type": "code",
   "execution_count": 2,
   "metadata": {},
   "outputs": [
    {
     "name": "stdout",
     "output_type": "stream",
     "text": [
      "[0, 1, 1, 2, 3, 5]\n"
     ]
    }
   ],
   "source": [
    "def fibonacci(n):\n",
    "    # Base cases\n",
    "    if n == 0:\n",
    "        return 0\n",
    "    elif n == 1:\n",
    "        return 1\n",
    "    else:\n",
    "        # Recursive case\n",
    "        return fibonacci(n - 1) + fibonacci(n - 2)\n",
    "\n",
    "def fibonacci_series(n):\n",
    "    # Generate the first n Fibonacci numbers\n",
    "    series = []\n",
    "    for i in range(n):\n",
    "        series.append(fibonacci(i))\n",
    "    return series\n",
    "\n",
    "# Example usage\n",
    "result = fibonacci_series(6)\n",
    "print(result)  # Output: [0, 1, 1, 2, 3, 5]\n"
   ]
  },
  {
   "cell_type": "markdown",
   "metadata": {},
   "source": [
    "Problem 8 : Subset Sum\n",
    "\n",
    "Given a set of positive integers and a target sum, write a recursive function to determine if there exists a subset\n",
    "of the integers that adds up to the target sum.\n",
    "subset_sum([3, 34, 4, 12, 5, 2], 9) -> True"
   ]
  },
  {
   "cell_type": "code",
   "execution_count": 3,
   "metadata": {},
   "outputs": [
    {
     "name": "stdout",
     "output_type": "stream",
     "text": [
      "True\n"
     ]
    }
   ],
   "source": [
    "def subset_sum(arr, target_sum):\n",
    "    # Helper function to perform the recursion\n",
    "    def subset_sum_recursive(index, target_sum):\n",
    "        # Base cases\n",
    "        if target_sum == 0:\n",
    "            return True\n",
    "        if index < 0:\n",
    "            return False\n",
    "        \n",
    "        # Recursive cases\n",
    "        if arr[index] > target_sum:\n",
    "            # If the current element is greater than the target sum, skip it\n",
    "            return subset_sum_recursive(index - 1, target_sum)\n",
    "        else:\n",
    "            # Check if we can achieve the target sum either by including or excluding the current element\n",
    "            return (subset_sum_recursive(index - 1, target_sum) or \n",
    "                    subset_sum_recursive(index - 1, target_sum - arr[index]))\n",
    "    \n",
    "    return subset_sum_recursive(len(arr) - 1, target_sum)\n",
    "\n",
    "# Example usage\n",
    "result = subset_sum([3, 34, 4, 12, 5, 2], 9)\n",
    "print(result)  # Output: True\n"
   ]
  },
  {
   "cell_type": "markdown",
   "metadata": {},
   "source": [
    "Problem 9: Word Break\n",
    "\n",
    "Given a non-empty string and a dictionary of words, write a recursive function to determine if the string can be\n",
    "segmented into a space-separated sequence of dictionary words.\n",
    "word_break( leetcode , [ leet , code ]) -> True"
   ]
  },
  {
   "cell_type": "code",
   "execution_count": 4,
   "metadata": {},
   "outputs": [
    {
     "name": "stdout",
     "output_type": "stream",
     "text": [
      "True\n"
     ]
    }
   ],
   "source": [
    "def word_break(s, word_dict):\n",
    "    # Helper function to perform the recursion\n",
    "    def word_break_recursive(substring):\n",
    "        # Base case: if the substring is empty\n",
    "        if not substring:\n",
    "            return True\n",
    "        \n",
    "        # Try every possible prefix of the substring\n",
    "        for i in range(1, len(substring) + 1):\n",
    "            prefix = substring[:i]\n",
    "            if prefix in word_dict:\n",
    "                # If the prefix is in the dictionary, check the remaining part\n",
    "                if word_break_recursive(substring[i:]):\n",
    "                    return True\n",
    "        \n",
    "        # If no valid segmentation is found, return False\n",
    "        return False\n",
    "    \n",
    "    # Start the recursion\n",
    "    return word_break_recursive(s)\n",
    "\n",
    "# Example usage\n",
    "result = word_break(\"leetcode\", [\"leet\", \"code\"])\n",
    "print(result)  # Output: True\n"
   ]
  },
  {
   "cell_type": "markdown",
   "metadata": {},
   "source": [
    "Problem 10 : N-Queens\n",
    "\n",
    "Implement a recursive function to solve the N Queens problem, where you have to place N queens on an N×N\n",
    "chessboard in such a way that no two queens threaten each other.\n",
    "n_queens(4)\n",
    "\n",
    "[\n",
    "\n",
    "[\".Q..\",\n",
    "\n",
    "\"...Q\",\n",
    "\n",
    "\"Q...\",\n",
    "\n",
    "\"..Q.\"],\n",
    "\n",
    "[\"..Q.\",\n",
    "\n",
    "\"Q...\",\n",
    "\n",
    "\"...Q\",\n",
    "\n",
    "\".Q..\"]\n",
    "\n",
    "]\n"
   ]
  },
  {
   "cell_type": "code",
   "execution_count": 5,
   "metadata": {},
   "outputs": [
    {
     "name": "stdout",
     "output_type": "stream",
     "text": [
      ".Q..\n",
      "...Q\n",
      "Q...\n",
      "..Q.\n",
      "\n",
      "..Q.\n",
      "Q...\n",
      "...Q\n",
      ".Q..\n",
      "\n"
     ]
    }
   ],
   "source": [
    "def n_queens(n):\n",
    "    def is_valid(board, row, col):\n",
    "        # Check if the column is safe\n",
    "        if col in columns:\n",
    "            return False\n",
    "        # Check if the main diagonal is safe\n",
    "        if (row - col) in main_diagonals:\n",
    "            return False\n",
    "        # Check if the anti-diagonal is safe\n",
    "        if (row + col) in anti_diagonals:\n",
    "            return False\n",
    "        return True\n",
    "\n",
    "    def place_queens(board, row):\n",
    "        if row == n:\n",
    "            # All queens are placed successfully, add the board configuration to results\n",
    "            results.append([''.join(row) for row in board])\n",
    "            return\n",
    "        \n",
    "        for col in range(n):\n",
    "            if is_valid(board, row, col):\n",
    "                # Place the queen\n",
    "                board[row][col] = 'Q'\n",
    "                columns.add(col)\n",
    "                main_diagonals.add(row - col)\n",
    "                anti_diagonals.add(row + col)\n",
    "                \n",
    "                # Recur to place the next queen\n",
    "                place_queens(board, row + 1)\n",
    "                \n",
    "                # Backtrack\n",
    "                board[row][col] = '.'\n",
    "                columns.remove(col)\n",
    "                main_diagonals.remove(row - col)\n",
    "                anti_diagonals.remove(row + col)\n",
    "    \n",
    "    results = []\n",
    "    columns = set()\n",
    "    main_diagonals = set()\n",
    "    anti_diagonals = set()\n",
    "    \n",
    "    # Initialize an empty board\n",
    "    board = [['.' for _ in range(n)] for _ in range(n)]\n",
    "    \n",
    "    place_queens(board, 0)\n",
    "    \n",
    "    return results\n",
    "\n",
    "# Example usage\n",
    "result = n_queens(4)\n",
    "for solution in result:\n",
    "    for row in solution:\n",
    "        print(row)\n",
    "    print()\n"
   ]
  }
 ],
 "metadata": {
  "kernelspec": {
   "display_name": "base",
   "language": "python",
   "name": "python3"
  },
  "language_info": {
   "codemirror_mode": {
    "name": "ipython",
    "version": 3
   },
   "file_extension": ".py",
   "mimetype": "text/x-python",
   "name": "python",
   "nbconvert_exporter": "python",
   "pygments_lexer": "ipython3",
   "version": "3.11.4"
  }
 },
 "nbformat": 4,
 "nbformat_minor": 2
}
